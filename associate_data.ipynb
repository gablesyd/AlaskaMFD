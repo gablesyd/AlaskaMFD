{
 "cells": [
  {
   "cell_type": "code",
   "execution_count": null,
   "metadata": {},
   "outputs": [],
   "source": [
    "# This script will associate data from columns in a full catalog file with events in individual transect\n",
    "# for example, if the transect file does not have the as a data column, we can search the \n",
    "# full catalog for that event and put the year in the transect file. \n",
    "\n",
    "\n",
    "import csv\n",
    "#full catalog file\n",
    "full_catalog=open('allrelocevt.lst')\n",
    "transect=open('centerxsec18_vpreloc1.evt')\n",
    "x,y,depth,ml=[],[],[],[]\n",
    "catalog_year=[]\n",
    "catalog_ID=[]\n",
    "transect_year=[]\n",
    "transect_ID=[]\n",
    "\n",
    "for line in full_catalog:\n",
    "    catalog_year.append(line.split()[10])\n",
    "    catalog_ID.append(line.split()[0])\n",
    "\n",
    "for line in transect:\n",
    "    x.append(line.split()[0])\n",
    "    y.append(line.split()[1])\n",
    "    depth.append(line.split()[2])\n",
    "    transect_ID.append(line.split()[3])\n",
    "    ml.append(line.split()[4])\n",
    "\n",
    "\n",
    "catalog_year=[float(i) for i in catalog_year]\n",
    "catalog_ID=[float(i) for i in catalog_ID]\n",
    "transect_ID=[float(i) for i in transect_ID]\n",
    "\n",
    "\n",
    "for i in range(len(catalog_ID)):\n",
    "    for j in range(len(transect_ID)):\n",
    "        if catalog_ID[i]==transect_ID[j]:\n",
    "            transect_year.append(catalog_year[i])\n",
    "\n",
    "with open('associated18','w') as f:\n",
    "    writer=csv.writer(f,delimiter='\\t')\n",
    "    writer.writerows(zip(x, y, depth, ml, transect_ID, transect_year))"
   ]
  }
 ],
 "metadata": {
  "kernelspec": {
   "display_name": "Python 3",
   "language": "python",
   "name": "python3"
  },
  "language_info": {
   "codemirror_mode": {
    "name": "ipython",
    "version": 3
   },
   "file_extension": ".py",
   "mimetype": "text/x-python",
   "name": "python",
   "nbconvert_exporter": "python",
   "pygments_lexer": "ipython3",
   "version": "3.7.4"
  }
 },
 "nbformat": 4,
 "nbformat_minor": 2
}
